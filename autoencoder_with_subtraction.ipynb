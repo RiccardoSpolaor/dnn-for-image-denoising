{
  "cells": [
    {
      "cell_type": "markdown",
      "id": "1b5e1165",
      "metadata": {
        "id": "1b5e1165"
      },
      "source": [
        "# Image Deblurring - June Exam"
      ]
    },
    {
      "cell_type": "markdown",
      "id": "6952a6bb",
      "metadata": {
        "id": "6952a6bb"
      },
      "source": [
        "# Assignment\n",
        "## Task \n",
        "\n",
        "The task consists of creating a deep learning model to detect hate speech or offensive language in texts. \n",
        "\n",
        "Try to build a pipeline which is able to perform the task and evaluate the results obtained. "
      ]
    },
    {
      "cell_type": "markdown",
      "id": "7d1410e4",
      "metadata": {
        "id": "7d1410e4"
      },
      "source": [
        "## Dataset\n",
        "The dataset is built starting from *CIFAR-10* images collection. Feel free to further split the data to build a validation set, if needed. \n",
        "\n",
        "The split into different data split is left to you, perform it as you like, making sure it is meaningful."
      ]
    },
    {
      "cell_type": "markdown",
      "id": "10b1add6",
      "metadata": {
        "id": "10b1add6"
      },
      "source": [
        "### Dataset creation - DO NOT MODIFY"
      ]
    },
    {
      "cell_type": "code",
      "execution_count": 1,
      "id": "e968f933",
      "metadata": {
        "id": "e968f933"
      },
      "outputs": [],
      "source": [
        "import tensorflow as tf \n",
        "import random\n",
        "from cv2 import GaussianBlur\n",
        "import numpy as np\n",
        "\n",
        "def getDataset():\n",
        "    (x_train, _), (x_test, _) = tf.keras.datasets.cifar10.load_data()\n",
        "    normalize = lambda x: x/x.max()\n",
        "    x_train = normalize(x_train)\n",
        "    x_test = normalize(x_test)\n",
        "    createBlurred = lambda arr: np.array([GaussianBlur(x, (5,5), ((random.random()*3)+1)) + (0.02*np.random.normal(0,1, (32, 32, 3))) for x in arr])\n",
        "    return (createBlurred(x_train), x_train), (createBlurred(x_test), x_test)"
      ]
    },
    {
      "cell_type": "markdown",
      "id": "c320edd6",
      "metadata": {
        "id": "c320edd6"
      },
      "source": [
        "## Structure\n",
        "\n",
        "Write a notebook explaining every step you take in the building of the pipeline and **DON'T** clear the output of the cells when you submit it.  \n",
        "\n",
        "Make sure to test the model in order to prove robustness and lack of overfitting.\n",
        "\n",
        "The metric you will need to use to evaluate the results is the *MSE*."
      ]
    },
    {
      "cell_type": "markdown",
      "id": "2ba441a2",
      "metadata": {
        "id": "2ba441a2"
      },
      "source": [
        "## Hints and requirements\n",
        "\n",
        "There are different strategies to remove such noise from images, feel free to use the one you consider to be the most appropriate, keeping in mind that the blurring is Gaussian and so is the noise. \n",
        "\n",
        "The metrics will be evaluated on the reconstructed images, so provide a way to check the results on a batch composed of original images and reconstructed images.\n",
        "\n",
        "You can't use **ANY** pre-trained models for this exam and try to build models with less than 10 milions trainable parameters. \n",
        "\n",
        "Try to remember all the instructions we provided in the last lab lesson about the submission, make sure to output the metrics of your final model and use the adequate strategy for the task. \n",
        "\n",
        "Save the weights of your model and keep them until the discussion, we might ask you to provide them. "
      ]
    },
    {
      "cell_type": "markdown",
      "id": "3a4318d3",
      "metadata": {
        "id": "3a4318d3"
      },
      "source": [
        "# Solution\n",
        "## Data visualization\n"
      ]
    },
    {
      "cell_type": "code",
      "execution_count": 2,
      "id": "ddb61551",
      "metadata": {
        "id": "ddb61551"
      },
      "outputs": [],
      "source": [
        "import matplotlib.pyplot as plt\n",
        "import tensorflow as tf\n",
        "from tensorflow.keras import layers\n",
        "from tensorflow.keras.models import Model\n",
        "\n",
        "%matplotlib inline\n"
      ]
    },
    {
      "cell_type": "code",
      "execution_count": 3,
      "id": "52d23b31",
      "metadata": {
        "id": "52d23b31"
      },
      "outputs": [],
      "source": [
        "(x_train, y_train), (x_test, y_test) = getDataset()"
      ]
    },
    {
      "cell_type": "code",
      "execution_count": 4,
      "id": "c297a2c4",
      "metadata": {
        "colab": {
          "base_uri": "https://localhost:8080/"
        },
        "id": "c297a2c4",
        "outputId": "bdab10af-c4a4-4c53-a8e7-791b470026af"
      },
      "outputs": [
        {
          "output_type": "stream",
          "name": "stdout",
          "text": [
            "The shape of the x_train dataset is: (50000, 32, 32, 3)\n",
            "The shape of the y_train dataset is: (50000, 32, 32, 3)\n",
            "The shape of the x_test dataset is: (10000, 32, 32, 3)\n",
            "The shape of the y_test dataset is: (10000, 32, 32, 3)\n"
          ]
        }
      ],
      "source": [
        "print(f'The shape of the x_train dataset is: {x_train.shape}')\n",
        "print(f'The shape of the y_train dataset is: {y_train.shape}')\n",
        "\n",
        "print(f'The shape of the x_test dataset is: {x_test.shape}')\n",
        "print(f'The shape of the y_test dataset is: {y_test.shape}')"
      ]
    },
    {
      "cell_type": "code",
      "execution_count": 5,
      "id": "5bdfe5bc",
      "metadata": {
        "id": "5bdfe5bc"
      },
      "outputs": [],
      "source": [
        "# y_train.max()"
      ]
    },
    {
      "cell_type": "code",
      "execution_count": 6,
      "id": "5c55f3d0",
      "metadata": {
        "colab": {
          "base_uri": "https://localhost:8080/",
          "height": 540
        },
        "id": "5c55f3d0",
        "outputId": "2042fc2b-3614-4194-cc86-7f8d8a8309a4"
      },
      "outputs": [
        {
          "output_type": "stream",
          "name": "stderr",
          "text": [
            "Clipping input data to the valid range for imshow with RGB data ([0..1] for floats or [0..255] for integers).\n"
          ]
        },
        {
          "output_type": "display_data",
          "data": {
            "text/plain": [
              "<Figure size 1440x720 with 10 Axes>"
            ],
            "image/png": "[encoded data removed]"
          },
          "metadata": {
            "needs_background": "light"
          }
        }
      ],
      "source": [
        "def plot_first_images(n_images_to_plot=5):\n",
        "    plt.figure(figsize=(20, 10))\n",
        "    for i in range(n_images_to_plot):\n",
        "        # Display blurrd image\n",
        "        ax = plt.subplot(2, n_images_to_plot, i + 1)\n",
        "        plt.imshow(x_train[i], vmin=0., vmax=1.)\n",
        "        ax.get_xaxis().set_visible(False)\n",
        "        ax.get_yaxis().set_visible(False)\n",
        "\n",
        "        # Display reconstructed image\n",
        "        ax = plt.subplot(2, n_images_to_plot, i + 1 + n_images_to_plot)\n",
        "        plt.imshow(y_train[i], vmin=0., vmax=1.)\n",
        "        ax.get_xaxis().set_visible(False)\n",
        "        ax.get_yaxis().set_visible(False)\n",
        "    plt.show()\n",
        "plot_first_images()"
      ]
    },
    {
      "cell_type": "code",
      "execution_count": 7,
      "id": "2a40e610",
      "metadata": {
        "id": "2a40e610"
      },
      "outputs": [],
      "source": [
        "input_shape = x_train.shape[1:]\n",
        "\n",
        "from tensorflow.keras.initializers import RandomNormal\n",
        "\n",
        "initializer = RandomNormal(mean=0, stddev=0.01)\n",
        "\n",
        "# Encoder\n",
        "input_layer = layers.Input(shape=(input_shape))\n",
        "\n",
        "x = layers.Conv2D(8, 3, strides=1, padding='same')(input_layer)\n",
        "x = layers.BatchNormalization()(x)\n",
        "x = layers.Activation(activation='selu')(x)\n",
        "x = layers.MaxPooling2D((2, 2), padding='same')(x)\n",
        "x = layers.Conv2D(16, 3, strides=1, padding='same')(x)\n",
        "x = layers.BatchNormalization()(x)\n",
        "x = layers.Activation(activation='selu')(x)\n",
        "x = layers.MaxPooling2D((2, 2), padding='same')(x)\n",
        "x = layers.Conv2D(32, 3, strides=1, padding='same')(x)\n",
        "x = layers.BatchNormalization()(x)\n",
        "x = layers.Activation(activation='selu')(x)\n",
        "x = layers.MaxPooling2D((2, 2), padding='same')(x)\n",
        "\n",
        "x = layers.UpSampling2D((2, 2))(x)\n",
        "x = layers.Conv2D(32, 3, strides=1, padding='same')(x)\n",
        "x = layers.BatchNormalization()(x)\n",
        "x = layers.UpSampling2D((2, 2))(x)\n",
        "x = layers.Conv2D(16, 3, strides=1, padding='same')(x)\n",
        "x = layers.BatchNormalization()(x)\n",
        "x = layers.Activation(activation='selu')(x)\n",
        "x = layers.UpSampling2D((2, 2))(x)\n",
        "x = layers.Conv2D(8, 3, strides=1, padding='same')(x)\n",
        "x = layers.BatchNormalization()(x)\n",
        "x = layers.Activation(activation='selu')(x)\n",
        "decoded = layers.Conv2D(3, 3, strides=1, padding='same')(x)\n",
        "output_layer = layers.Subtract()([input_layer, decoded])\n",
        "\n",
        "# Autoencoder\n",
        "autoencoder = Model(input_layer, output_layer)"
      ]
    },
    {
      "cell_type": "code",
      "source": [
        "def convolve_down(x, channels):\n",
        "  x = layers.Conv2D(channels, 3, strides=1, padding='same', activation='swish')(x)\n",
        "  x = layers.Dropout(.4)(x)\n",
        "  x = layers.MaxPooling2D(pool_size=(2, 2), padding='same')(x)\n",
        "  return x\n",
        "\n",
        "def convolve_up(x, channels):\n",
        "  x = layers.UpSampling2D((2, 2))(x)\n",
        "  x = layers.Conv2D(channels, kernel_size=(3,3), strides=(1,1), padding='same', activation='swish')(x)\n",
        "  x = layers.Dropout(.4)(x)\n",
        "  return x\n",
        "\n",
        "def build_model(input_shape):\n",
        "    input = layers.Input(shape=input_shape)\n",
        "\n",
        "    x = convolve_down(input, 32)\n",
        "    x = convolve_down(x, 64)\n",
        "    x = convolve_down(x, 128)\n",
        "\n",
        "    x = layers.Conv2D(252, 3, strides=1, padding='same', activation='swish')(x)\n",
        "    x = layers.Dropout(.4)(x)\n",
        "\n",
        "    x = convolve_up(x, 128)\n",
        "    x = convolve_up(x, 64)\n",
        "    x = convolve_up(x, 32)\n",
        "    decoded = layers.Conv2D(3, kernel_size=1, padding='same', activation='swish')(x)\n",
        "    out = layers.Subtract()([input, decoded])\n",
        "    return Model(input, out)\n",
        "\n",
        "autoencoder = build_model(x_train.shape[1:])"
      ],
      "metadata": {
        "id": "PXVOiLaqhnl4"
      },
      "id": "PXVOiLaqhnl4",
      "execution_count": 8,
      "outputs": []
    },
    {
      "cell_type": "code",
      "source": [
        "from tensorflow.keras.initializers import RandomNormal\n",
        "\n",
        "initializer = RandomNormal(mean=0, stddev=0.01)\n",
        "\n",
        "def build_model(input_shape):\n",
        "    input_layer = layers.Input(shape=input_shape)\n",
        "\n",
        "    x = layers.Conv2D(64, (3, 3), padding='same', kernel_initializer=initializer)(input_layer)\n",
        "\n",
        "    bn1 = layers.BatchNormalization()(x)\n",
        "\n",
        "    act1 = layers.Activation(activation='selu')(bn1)\n",
        "\n",
        "    x = layers.Conv2D(64, (3, 3), padding='same', kernel_initializer=initializer)(act1)\n",
        "\n",
        "    bn1 = layers.BatchNormalization()(x)\n",
        "\n",
        "    act1 = layers.Activation(activation='selu')(bn1)\n",
        "\n",
        "    encoded = layers.Conv2D(32, (3, 3), padding='same', kernel_initializer=initializer)(act1)\n",
        "\n",
        "    bn1 = layers.BatchNormalization()(encoded)\n",
        "\n",
        "    act1 = layers.Activation(activation='selu')(bn1)\n",
        "\n",
        "    x = layers.Conv2D(32, (3, 3), padding='same', kernel_initializer=initializer)(act1)\n",
        "\n",
        "    bn1 = layers.BatchNormalization()(x)\n",
        "\n",
        "    act1 = layers.Activation(activation='selu')(bn1)\n",
        "\n",
        "    x = layers.Conv2D(64, (3, 3), padding='same', kernel_initializer=initializer)(act1)\n",
        "\n",
        "    bn1 = layers.BatchNormalization()(x)\n",
        "\n",
        "    act1 = layers.Activation(activation='selu')(bn1)\n",
        "\n",
        "    x = layers.Conv2D(64, (3, 3), padding='same', kernel_initializer=initializer)(act1)\n",
        "\n",
        "    bn1 = layers.BatchNormalization()(x)\n",
        "\n",
        "    act1 = layers.Activation(activation='selu')(bn1)\n",
        "\n",
        "    decoded = layers.Conv2D(3, (3, 3), padding='same', kernel_initializer=initializer)(act1)\n",
        "\n",
        "    output_layer = layers.Subtract()([input_layer, decoded])\n",
        "\n",
        "    return Model(input_layer, output_layer)\n",
        "\n",
        "autoencoder = build_model(x_train.shape[1:])"
      ],
      "metadata": {
        "id": "WzOZkW5n-951"
      },
      "id": "WzOZkW5n-951",
      "execution_count": 9,
      "outputs": []
    },
    {
      "cell_type": "code",
      "execution_count": 10,
      "id": "c7b4a1ec",
      "metadata": {
        "colab": {
          "base_uri": "https://localhost:8080/"
        },
        "id": "c7b4a1ec",
        "outputId": "223d3495-3d3b-4f5e-b590-b413e9d9789a"
      },
      "outputs": [
        {
          "output_type": "stream",
          "name": "stdout",
          "text": [
            "Model: \"model_2\"\n",
            "__________________________________________________________________________________________________\n",
            " Layer (type)                   Output Shape         Param #     Connected to                     \n",
            "==================================================================================================\n",
            " input_3 (InputLayer)           [(None, 32, 32, 3)]  0           []                               \n",
            "                                                                                                  \n",
            " conv2d_15 (Conv2D)             (None, 32, 32, 64)   1792        ['input_3[0][0]']                \n",
            "                                                                                                  \n",
            " batch_normalization_6 (BatchNo  (None, 32, 32, 64)  256         ['conv2d_15[0][0]']              \n",
            " rmalization)                                                                                     \n",
            "                                                                                                  \n",
            " activation_5 (Activation)      (None, 32, 32, 64)   0           ['batch_normalization_6[0][0]']  \n",
            "                                                                                                  \n",
            " conv2d_16 (Conv2D)             (None, 32, 32, 64)   36928       ['activation_5[0][0]']           \n",
            "                                                                                                  \n",
            " batch_normalization_7 (BatchNo  (None, 32, 32, 64)  256         ['conv2d_16[0][0]']              \n",
            " rmalization)                                                                                     \n",
            "                                                                                                  \n",
            " activation_6 (Activation)      (None, 32, 32, 64)   0           ['batch_normalization_7[0][0]']  \n",
            "                                                                                                  \n",
            " conv2d_17 (Conv2D)             (None, 32, 32, 32)   18464       ['activation_6[0][0]']           \n",
            "                                                                                                  \n",
            " batch_normalization_8 (BatchNo  (None, 32, 32, 32)  128         ['conv2d_17[0][0]']              \n",
            " rmalization)                                                                                     \n",
            "                                                                                                  \n",
            " activation_7 (Activation)      (None, 32, 32, 32)   0           ['batch_normalization_8[0][0]']  \n",
            "                                                                                                  \n",
            " conv2d_18 (Conv2D)             (None, 32, 32, 32)   9248        ['activation_7[0][0]']           \n",
            "                                                                                                  \n",
            " batch_normalization_9 (BatchNo  (None, 32, 32, 32)  128         ['conv2d_18[0][0]']              \n",
            " rmalization)                                                                                     \n",
            "                                                                                                  \n",
            " activation_8 (Activation)      (None, 32, 32, 32)   0           ['batch_normalization_9[0][0]']  \n",
            "                                                                                                  \n",
            " conv2d_19 (Conv2D)             (None, 32, 32, 64)   18496       ['activation_8[0][0]']           \n",
            "                                                                                                  \n",
            " batch_normalization_10 (BatchN  (None, 32, 32, 64)  256         ['conv2d_19[0][0]']              \n",
            " ormalization)                                                                                    \n",
            "                                                                                                  \n",
            " activation_9 (Activation)      (None, 32, 32, 64)   0           ['batch_normalization_10[0][0]'] \n",
            "                                                                                                  \n",
            " conv2d_20 (Conv2D)             (None, 32, 32, 64)   36928       ['activation_9[0][0]']           \n",
            "                                                                                                  \n",
            " batch_normalization_11 (BatchN  (None, 32, 32, 64)  256         ['conv2d_20[0][0]']              \n",
            " ormalization)                                                                                    \n",
            "                                                                                                  \n",
            " activation_10 (Activation)     (None, 32, 32, 64)   0           ['batch_normalization_11[0][0]'] \n",
            "                                                                                                  \n",
            " conv2d_21 (Conv2D)             (None, 32, 32, 3)    1731        ['activation_10[0][0]']          \n",
            "                                                                                                  \n",
            " subtract_2 (Subtract)          (None, 32, 32, 3)    0           ['input_3[0][0]',                \n",
            "                                                                  'conv2d_21[0][0]']              \n",
            "                                                                                                  \n",
            "==================================================================================================\n",
            "Total params: 124,867\n",
            "Trainable params: 124,227\n",
            "Non-trainable params: 640\n",
            "__________________________________________________________________________________________________\n"
          ]
        }
      ],
      "source": [
        "autoencoder.summary()"
      ]
    },
    {
      "cell_type": "code",
      "source": [
        ""
      ],
      "metadata": {
        "id": "4oxyecFSDmeu"
      },
      "id": "4oxyecFSDmeu",
      "execution_count": null,
      "outputs": []
    },
    {
      "cell_type": "code",
      "source": [
        "from tensorflow.keras.initializers import RandomNormal\n",
        "\n",
        "initializer = RandomNormal(mean=0, stddev=0.01)\n",
        "\n",
        "def build_model(input_shape):\n",
        "    input_layer = layers.Input(shape=input_shape)\n",
        "\n",
        "    x = layers.Conv2D(64, (3, 3), padding='same', kernel_initializer=initializer)(input_layer)\n",
        "\n",
        "    bn1 = layers.BatchNormalization()(x)\n",
        "\n",
        "    act1 = layers.Activation(activation='selu')(bn1)\n",
        "\n",
        "    x = layers.Conv2D(64, (3, 3), padding='same', kernel_initializer=initializer)(act1)\n",
        "\n",
        "    bn1 = layers.BatchNormalization()(x)\n",
        "\n",
        "    act1 = layers.Activation(activation='selu')(bn1)\n",
        "\n",
        "    encoded = layers.Conv2D(32, (3, 3), padding='same', kernel_initializer=initializer)(act1)\n",
        "\n",
        "    bn1 = layers.BatchNormalization()(encoded)\n",
        "\n",
        "    act1 = layers.Activation(activation='selu')(bn1)\n",
        "\n",
        "    x = layers.Conv2D(32, (3, 3), padding='same', kernel_initializer=initializer)(act1)\n",
        "\n",
        "    bn1 = layers.BatchNormalization()(x)\n",
        "\n",
        "    act1 = layers.Activation(activation='selu')(bn1)\n",
        "\n",
        "    x = layers.Conv2D(64, (3, 3), padding='same', kernel_initializer=initializer)(act1)\n",
        "\n",
        "    bn1 = layers.BatchNormalization()(x)\n",
        "\n",
        "    act1 = layers.Activation(activation='selu')(bn1)\n",
        "\n",
        "    x = layers.Conv2D(64, (3, 3), padding='same', kernel_initializer=initializer)(act1)\n",
        "\n",
        "    bn1 = layers.BatchNormalization()(x)\n",
        "\n",
        "    act1 = layers.Activation(activation='selu')(bn1)\n",
        "\n",
        "    decoded = layers.Conv2D(3, (3, 3), padding='same', kernel_initializer=initializer)(act1)\n",
        "\n",
        "    output_layer = layers.Subtract()([input_layer, decoded])\n",
        "\n",
        "    return Model(input_layer, output_layer)\n",
        "\n",
        "autoencoder = build_model(x_train.shape[1:])"
      ],
      "metadata": {
        "id": "atHk120QDrHn"
      },
      "execution_count": null,
      "outputs": [],
      "id": "atHk120QDrHn"
    },
    {
      "cell_type": "code",
      "source": [
        "autoencoder.summary()"
      ],
      "metadata": {
        "id": "u9RF2rgKDtXB"
      },
      "id": "u9RF2rgKDtXB",
      "execution_count": null,
      "outputs": []
    },
    {
      "cell_type": "markdown",
      "source": [
        "https://github.com/jyothishkjames/Image-Denoising-with-Autoencoders/blob/master/models/train_model.py"
      ],
      "metadata": {
        "id": "IQ8k0L23l3TI"
      },
      "id": "IQ8k0L23l3TI"
    },
    {
      "cell_type": "markdown",
      "source": [
        "https://medium.com/analytics-vidhya/noise-removal-in-images-using-deep-learning-models-3972544372d2"
      ],
      "metadata": {
        "id": "vO3RZAXcDkXw"
      },
      "id": "vO3RZAXcDkXw"
    },
    {
      "cell_type": "code",
      "execution_count": 11,
      "id": "16eb92f4",
      "metadata": {
        "id": "16eb92f4"
      },
      "outputs": [],
      "source": [
        "from tensorflow.keras.optimizers import Adam\n",
        "adam = Adam(0.001)\n",
        "autoencoder.compile(optimizer=adam, loss='mse')"
      ]
    },
    {
      "cell_type": "code",
      "execution_count": 12,
      "id": "54e0617b",
      "metadata": {
        "colab": {
          "base_uri": "https://localhost:8080/"
        },
        "id": "54e0617b",
        "outputId": "4a406c17-4864-44fd-e447-45e430e469f7"
      },
      "outputs": [
        {
          "output_type": "stream",
          "name": "stdout",
          "text": [
            "Epoch 1/20\n",
            "625/625 [==============================] - 18s 24ms/step - loss: 0.0062 - val_loss: 0.0046\n",
            "Epoch 2/20\n",
            "625/625 [==============================] - 14s 23ms/step - loss: 0.0040 - val_loss: 0.0039\n",
            "Epoch 3/20\n",
            "625/625 [==============================] - 15s 23ms/step - loss: 0.0038 - val_loss: 0.0036\n",
            "Epoch 4/20\n",
            "625/625 [==============================] - 14s 23ms/step - loss: 0.0040 - val_loss: 0.0039\n",
            "Epoch 5/20\n",
            "625/625 [==============================] - 14s 23ms/step - loss: 0.0035 - val_loss: 0.0035\n",
            "Epoch 6/20\n",
            "625/625 [==============================] - 14s 23ms/step - loss: 0.0034 - val_loss: 0.0033\n",
            "Epoch 7/20\n",
            "625/625 [==============================] - 14s 23ms/step - loss: 0.0033 - val_loss: 0.0035\n",
            "Epoch 8/20\n",
            "625/625 [==============================] - 14s 23ms/step - loss: 0.0032 - val_loss: 0.0032\n",
            "Epoch 9/20\n",
            "625/625 [==============================] - 14s 23ms/step - loss: 0.0032 - val_loss: 0.0035\n",
            "Epoch 10/20\n",
            "625/625 [==============================] - 14s 23ms/step - loss: 0.0057 - val_loss: 0.0050\n",
            "Epoch 11/20\n",
            "625/625 [==============================] - 14s 23ms/step - loss: 0.0041 - val_loss: 0.0040\n",
            "Epoch 12/20\n",
            "625/625 [==============================] - 14s 23ms/step - loss: 0.0040 - val_loss: 0.0039\n",
            "Epoch 13/20\n",
            "625/625 [==============================] - 14s 23ms/step - loss: 0.0039 - val_loss: 0.0039\n",
            "Epoch 14/20\n",
            "625/625 [==============================] - 14s 23ms/step - loss: 0.0038 - val_loss: 0.0038\n",
            "Epoch 15/20\n",
            "625/625 [==============================] - 14s 23ms/step - loss: 0.0037 - val_loss: 0.0036\n",
            "Epoch 16/20\n",
            "625/625 [==============================] - 14s 23ms/step - loss: 0.0036 - val_loss: 0.0037\n",
            "Epoch 17/20\n",
            "625/625 [==============================] - 14s 23ms/step - loss: 0.0036 - val_loss: 0.0035\n",
            "Epoch 18/20\n",
            "625/625 [==============================] - 15s 23ms/step - loss: 0.0040 - val_loss: 0.0044\n",
            "Epoch 19/20\n",
            "625/625 [==============================] - 15s 24ms/step - loss: 0.0036 - val_loss: 0.0037\n",
            "Epoch 20/20\n",
            "625/625 [==============================] - 16s 25ms/step - loss: 0.0034 - val_loss: 0.0034\n"
          ]
        },
        {
          "output_type": "execute_result",
          "data": {
            "text/plain": [
              "<keras.callbacks.History at 0x7f4f367b8650>"
            ]
          },
          "metadata": {},
          "execution_count": 12
        }
      ],
      "source": [
        "autoencoder.fit(x_train, y_train,\n",
        "                validation_split=0.2,\n",
        "                epochs=20,\n",
        "                batch_size=64)"
      ]
    },
    {
      "cell_type": "code",
      "execution_count": 12,
      "id": "95f26c0c",
      "metadata": {
        "id": "95f26c0c"
      },
      "outputs": [],
      "source": [
        ""
      ]
    },
    {
      "cell_type": "code",
      "source": [
        ""
      ],
      "metadata": {
        "id": "BWlxetdXDilr"
      },
      "id": "BWlxetdXDilr",
      "execution_count": null,
      "outputs": []
    },
    {
      "cell_type": "code",
      "execution_count": 12,
      "id": "b05c89a1",
      "metadata": {
        "id": "b05c89a1"
      },
      "outputs": [],
      "source": [
        ""
      ]
    },
    {
      "cell_type": "code",
      "execution_count": 12,
      "id": "6349755f",
      "metadata": {
        "id": "6349755f"
      },
      "outputs": [],
      "source": [
        ""
      ]
    }
  ],
  "metadata": {
    "kernelspec": {
      "display_name": "Python 3 (ipykernel)",
      "language": "python",
      "name": "python3"
    },
    "language_info": {
      "codemirror_mode": {
        "name": "ipython",
        "version": 3
      },
      "file_extension": ".py",
      "mimetype": "text/x-python",
      "name": "python",
      "nbconvert_exporter": "python",
      "pygments_lexer": "ipython3",
      "version": "3.10.4"
    },
    "colab": {
      "name": "Untitled.ipynb",
      "provenance": [],
      "collapsed_sections": []
    },
    "accelerator": "GPU"
  },
  "nbformat": 4,
  "nbformat_minor": 5
}