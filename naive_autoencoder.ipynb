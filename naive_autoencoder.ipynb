{
  "cells": [
    {
      "cell_type": "markdown",
      "id": "1b5e1165",
      "metadata": {
        "id": "1b5e1165"
      },
      "source": [
        "# Image Deblurring - June Exam"
      ]
    },
    {
      "cell_type": "markdown",
      "id": "6952a6bb",
      "metadata": {
        "id": "6952a6bb"
      },
      "source": [
        "# Assignment\n",
        "## Task \n",
        "\n",
        "The task consists of creating a deep learning model to detect hate speech or offensive language in texts. \n",
        "\n",
        "Try to build a pipeline which is able to perform the task and evaluate the results obtained. "
      ]
    },
    {
      "cell_type": "markdown",
      "id": "7d1410e4",
      "metadata": {
        "id": "7d1410e4"
      },
      "source": [
        "## Dataset\n",
        "The dataset is built starting from *CIFAR-10* images collection. Feel free to further split the data to build a validation set, if needed. \n",
        "\n",
        "The split into different data split is left to you, perform it as you like, making sure it is meaningful."
      ]
    },
    {
      "cell_type": "markdown",
      "id": "10b1add6",
      "metadata": {
        "id": "10b1add6"
      },
      "source": [
        "### Dataset creation - DO NOT MODIFY"
      ]
    },
    {
      "cell_type": "code",
      "execution_count": 1,
      "id": "e968f933",
      "metadata": {
        "id": "e968f933"
      },
      "outputs": [],
      "source": [
        "import tensorflow as tf \n",
        "import random\n",
        "from cv2 import GaussianBlur\n",
        "import numpy as np\n",
        "\n",
        "def getDataset():\n",
        "    (x_train, _), (x_test, _) = tf.keras.datasets.cifar10.load_data()\n",
        "    normalize = lambda x: x/x.max()\n",
        "    x_train = normalize(x_train)\n",
        "    x_test = normalize(x_test)\n",
        "    createBlurred = lambda arr: np.array([GaussianBlur(x, (5,5), ((random.random()*3)+1)) + (0.02*np.random.normal(0,1, (32, 32, 3))) for x in arr])\n",
        "    return (createBlurred(x_train), x_train), (createBlurred(x_test), x_test)"
      ]
    },
    {
      "cell_type": "markdown",
      "id": "c320edd6",
      "metadata": {
        "id": "c320edd6"
      },
      "source": [
        "## Structure\n",
        "\n",
        "Write a notebook explaining every step you take in the building of the pipeline and **DON'T** clear the output of the cells when you submit it.  \n",
        "\n",
        "Make sure to test the model in order to prove robustness and lack of overfitting.\n",
        "\n",
        "The metric you will need to use to evaluate the results is the *MSE*."
      ]
    },
    {
      "cell_type": "markdown",
      "id": "2ba441a2",
      "metadata": {
        "id": "2ba441a2"
      },
      "source": [
        "## Hints and requirements\n",
        "\n",
        "There are different strategies to remove such noise from images, feel free to use the one you consider to be the most appropriate, keeping in mind that the blurring is Gaussian and so is the noise. \n",
        "\n",
        "The metrics will be evaluated on the reconstructed images, so provide a way to check the results on a batch composed of original images and reconstructed images.\n",
        "\n",
        "You can't use **ANY** pre-trained models for this exam and try to build models with less than 10 milions trainable parameters. \n",
        "\n",
        "Try to remember all the instructions we provided in the last lab lesson about the submission, make sure to output the metrics of your final model and use the adequate strategy for the task. \n",
        "\n",
        "Save the weights of your model and keep them until the discussion, we might ask you to provide them. "
      ]
    },
    {
      "cell_type": "markdown",
      "id": "3a4318d3",
      "metadata": {
        "id": "3a4318d3"
      },
      "source": [
        "# Solution\n",
        "## Data visualization\n"
      ]
    },
    {
      "cell_type": "code",
      "execution_count": 2,
      "id": "ddb61551",
      "metadata": {
        "id": "ddb61551"
      },
      "outputs": [],
      "source": [
        "import matplotlib.pyplot as plt\n",
        "import tensorflow as tf\n",
        "from tensorflow.keras import layers\n",
        "from tensorflow.keras.models import Model\n",
        "\n",
        "%matplotlib inline\n"
      ]
    },
    {
      "cell_type": "code",
      "execution_count": 3,
      "id": "52d23b31",
      "metadata": {
        "id": "52d23b31"
      },
      "outputs": [],
      "source": [
        "(x_train, y_train), (x_test, y_test) = getDataset()"
      ]
    },
    {
      "cell_type": "code",
      "execution_count": 4,
      "id": "c297a2c4",
      "metadata": {
        "colab": {
          "base_uri": "https://localhost:8080/"
        },
        "id": "c297a2c4",
        "outputId": "5939a9ea-9fba-4528-9eb3-76ec2ef9e67d"
      },
      "outputs": [
        {
          "output_type": "stream",
          "name": "stdout",
          "text": [
            "The shape of the x_train dataset is: (50000, 32, 32, 3)\n",
            "The shape of the y_train dataset is: (50000, 32, 32, 3)\n",
            "The shape of the x_test dataset is: (10000, 32, 32, 3)\n",
            "The shape of the y_test dataset is: (10000, 32, 32, 3)\n"
          ]
        }
      ],
      "source": [
        "print(f'The shape of the x_train dataset is: {x_train.shape}')\n",
        "print(f'The shape of the y_train dataset is: {y_train.shape}')\n",
        "\n",
        "print(f'The shape of the x_test dataset is: {x_test.shape}')\n",
        "print(f'The shape of the y_test dataset is: {y_test.shape}')"
      ]
    },
    {
      "cell_type": "code",
      "execution_count": 5,
      "id": "5bdfe5bc",
      "metadata": {
        "id": "5bdfe5bc"
      },
      "outputs": [],
      "source": [
        "# y_train.max()"
      ]
    },
    {
      "cell_type": "code",
      "execution_count": 6,
      "id": "5c55f3d0",
      "metadata": {
        "colab": {
          "base_uri": "https://localhost:8080/",
          "height": 540
        },
        "id": "5c55f3d0",
        "outputId": "7df28e68-0eb9-449c-c2d9-5e925ae33c07"
      },
      "outputs": [
        {
          "output_type": "stream",
          "name": "stderr",
          "text": [
            "Clipping input data to the valid range for imshow with RGB data ([0..1] for floats or [0..255] for integers).\n"
          ]
        },
        {
          "output_type": "display_data",
          "data": {
            "text/plain": [
              "<Figure size 1440x720 with 10 Axes>"
            ],
            "image/png": "[encoded data removed]"
          },
          "metadata": {
            "needs_background": "light"
          }
        }
      ],
      "source": [
        "def plot_first_images(n_images_to_plot=5):\n",
        "    plt.figure(figsize=(20, 10))\n",
        "    for i in range(n_images_to_plot):\n",
        "        # Display blurrd image\n",
        "        ax = plt.subplot(2, n_images_to_plot, i + 1)\n",
        "        plt.imshow(x_train[i], vmin=0., vmax=1.)\n",
        "        ax.get_xaxis().set_visible(False)\n",
        "        ax.get_yaxis().set_visible(False)\n",
        "\n",
        "        # Display reconstructed image\n",
        "        ax = plt.subplot(2, n_images_to_plot, i + 1 + n_images_to_plot)\n",
        "        plt.imshow(y_train[i], vmin=0., vmax=1.)\n",
        "        ax.get_xaxis().set_visible(False)\n",
        "        ax.get_yaxis().set_visible(False)\n",
        "    plt.show()\n",
        "plot_first_images()"
      ]
    },
    {
      "cell_type": "code",
      "execution_count": 23,
      "id": "2a40e610",
      "metadata": {
        "id": "2a40e610"
      },
      "outputs": [],
      "source": [
        "input_shape = x_train.shape[1:]\n",
        "\n",
        "from tensorflow.keras.initializers import RandomNormal\n",
        "\n",
        "initializer = RandomNormal(mean=0, stddev=1)\n",
        "\n",
        "# size of our encoded representations\n",
        "# encoding_dim = 16 \n",
        "# mid_dim = 64\n",
        "\n",
        "# input placeholder\n",
        "\"\"\"input_layer = layers.Input(shape=(input_shape))\n",
        "\n",
        "c1 = layers.Conv2D(16, kernel_size=(3,3), strides=(1,1), padding='same', activation='swish')(input_layer)\n",
        "p1 = layers.MaxPooling2D((2, 2))(c1)\n",
        "\n",
        "c2 = layers.Conv2D(32, kernel_size=(3,3), strides=(1,1), padding='same', activation='swish')(p1)\n",
        "p2 = layers.MaxPooling2D((2, 2))(c2)\n",
        "bn1 = layers.BatchNormalization()(p2)\n",
        "\n",
        "c3 = layers.Conv2D(64, kernel_size=(3,3), strides=(1,1), padding='same', activation='swish')(bn1)\n",
        "bn2 = layers.BatchNormalization()(c3)\n",
        "\n",
        "p3 = layers.Conv2DTranspose(32, kernel_size=(1,1), strides=(2,2), padding='same', activation='swish')(bn2)\n",
        "c4 = layers.Conv2D(32, kernel_size=(3,3), strides=(1,1), padding='same', activation='relu')(p3)\n",
        "bn3 = layers.BatchNormalization()(c4)\n",
        "\n",
        "p4 = layers.Conv2DTranspose(16, kernel_size=(1,1), strides=(2,2), padding='same', activation='swish')(bn3)\n",
        "output_layer = layers.Conv2D(3, kernel_size=(3,3), strides=(1,1), padding='same', activation='swish')(p4)\"\"\"\n",
        "\n",
        "# Encoder\n",
        "input_layer = layers.Input(shape=(input_shape))\n",
        "\n",
        "x = layers.Conv2D(16, (3, 3), activation='swish', padding='same')(input_layer)\n",
        "x = layers.BatchNormalization()(x)\n",
        "x = layers.MaxPooling2D((2, 2), padding='same')(x)\n",
        "x = layers.Conv2D(32, (3, 3), activation='swish', padding='same')(x)\n",
        "x = layers.BatchNormalization()(x)\n",
        "x = layers.MaxPooling2D((2, 2), padding='same')(x)\n",
        "\n",
        "# at this point the representation is (4, 4, 8) i.e. 128-dimensional\n",
        "\n",
        "x = layers.Conv2DTranspose(32, kernel_size=(1,1), strides=(2,2), padding='same', activation='swish')(x)\n",
        "x = layers.Conv2D(32, (3, 3), activation='swish', padding='same')(x)\n",
        "x = layers.BatchNormalization()(x)\n",
        "x = layers.Conv2DTranspose(16, kernel_size=(1,1), strides=(2,2), padding='same', activation='swish')(x)\n",
        "decoded = layers.Conv2D(3, (3, 3), activation='swish', padding='same')(x)\n",
        "\n",
        "# Autoencoder\n",
        "autoencoder = Model(input_layer, decoded)"
      ]
    },
    {
      "cell_type": "code",
      "execution_count": 24,
      "id": "c7b4a1ec",
      "metadata": {
        "colab": {
          "base_uri": "https://localhost:8080/"
        },
        "id": "c7b4a1ec",
        "outputId": "2f86ca44-991c-4c70-b33f-88bbfb05ba44"
      },
      "outputs": [
        {
          "output_type": "stream",
          "name": "stdout",
          "text": [
            "Model: \"model_3\"\n",
            "_________________________________________________________________\n",
            " Layer (type)                Output Shape              Param #   \n",
            "=================================================================\n",
            " input_6 (InputLayer)        [(None, 32, 32, 3)]       0         \n",
            "                                                                 \n",
            " conv2d_16 (Conv2D)          (None, 32, 32, 16)        448       \n",
            "                                                                 \n",
            " batch_normalization_10 (Bat  (None, 32, 32, 16)       64        \n",
            " chNormalization)                                                \n",
            "                                                                 \n",
            " max_pooling2d_9 (MaxPooling  (None, 16, 16, 16)       0         \n",
            " 2D)                                                             \n",
            "                                                                 \n",
            " conv2d_17 (Conv2D)          (None, 16, 16, 32)        4640      \n",
            "                                                                 \n",
            " batch_normalization_11 (Bat  (None, 16, 16, 32)       128       \n",
            " chNormalization)                                                \n",
            "                                                                 \n",
            " max_pooling2d_10 (MaxPoolin  (None, 8, 8, 32)         0         \n",
            " g2D)                                                            \n",
            "                                                                 \n",
            " conv2d_transpose_6 (Conv2DT  (None, 16, 16, 32)       1056      \n",
            " ranspose)                                                       \n",
            "                                                                 \n",
            " conv2d_18 (Conv2D)          (None, 16, 16, 32)        9248      \n",
            "                                                                 \n",
            " batch_normalization_12 (Bat  (None, 16, 16, 32)       128       \n",
            " chNormalization)                                                \n",
            "                                                                 \n",
            " conv2d_transpose_7 (Conv2DT  (None, 32, 32, 16)       528       \n",
            " ranspose)                                                       \n",
            "                                                                 \n",
            " conv2d_19 (Conv2D)          (None, 32, 32, 3)         435       \n",
            "                                                                 \n",
            "=================================================================\n",
            "Total params: 16,675\n",
            "Trainable params: 16,515\n",
            "Non-trainable params: 160\n",
            "_________________________________________________________________\n"
          ]
        }
      ],
      "source": [
        "autoencoder.summary()"
      ]
    },
    {
      "cell_type": "code",
      "execution_count": 25,
      "id": "16eb92f4",
      "metadata": {
        "id": "16eb92f4"
      },
      "outputs": [],
      "source": [
        "from tensorflow.keras.optimizers import Adam\n",
        "adam = Adam(learning_rate=0.001)\n",
        "autoencoder.compile(optimizer=adam, loss='mse')"
      ]
    },
    {
      "cell_type": "code",
      "execution_count": 27,
      "id": "54e0617b",
      "metadata": {
        "colab": {
          "base_uri": "https://localhost:8080/"
        },
        "id": "54e0617b",
        "outputId": "4cbbed24-2f2e-43f8-89e2-ae6ca3ae22aa"
      },
      "outputs": [
        {
          "output_type": "stream",
          "name": "stdout",
          "text": [
            "Epoch 1/10\n",
            "167/167 [==============================] - 4s 23ms/step - loss: 0.0054 - val_loss: 0.0052\n",
            "Epoch 2/10\n",
            "167/167 [==============================] - 3s 20ms/step - loss: 0.0052 - val_loss: 0.0052\n",
            "Epoch 3/10\n",
            "167/167 [==============================] - 3s 20ms/step - loss: 0.0052 - val_loss: 0.0051\n",
            "Epoch 4/10\n",
            "167/167 [==============================] - 3s 20ms/step - loss: 0.0051 - val_loss: 0.0050\n",
            "Epoch 5/10\n",
            "167/167 [==============================] - 3s 20ms/step - loss: 0.0051 - val_loss: 0.0052\n",
            "Epoch 6/10\n",
            "167/167 [==============================] - 3s 20ms/step - loss: 0.0050 - val_loss: 0.0048\n",
            "Epoch 7/10\n",
            "167/167 [==============================] - 3s 20ms/step - loss: 0.0050 - val_loss: 0.0052\n",
            "Epoch 8/10\n",
            "167/167 [==============================] - 3s 20ms/step - loss: 0.0050 - val_loss: 0.0049\n",
            "Epoch 9/10\n",
            "167/167 [==============================] - 3s 20ms/step - loss: 0.0049 - val_loss: 0.0049\n",
            "Epoch 10/10\n",
            "167/167 [==============================] - 3s 20ms/step - loss: 0.0049 - val_loss: 0.0049\n"
          ]
        },
        {
          "output_type": "execute_result",
          "data": {
            "text/plain": [
              "<keras.callbacks.History at 0x7fa86a7a0a90>"
            ]
          },
          "metadata": {},
          "execution_count": 27
        }
      ],
      "source": [
        "autoencoder.fit(x_train, y_train,\n",
        "                validation_split =0.2,\n",
        "                epochs=10,\n",
        "                batch_size=240)"
      ]
    },
    {
      "cell_type": "code",
      "execution_count": 10,
      "id": "95f26c0c",
      "metadata": {
        "id": "95f26c0c"
      },
      "outputs": [],
      "source": [
        ""
      ]
    },
    {
      "cell_type": "code",
      "execution_count": 10,
      "id": "b05c89a1",
      "metadata": {
        "id": "b05c89a1"
      },
      "outputs": [],
      "source": [
        ""
      ]
    },
    {
      "cell_type": "code",
      "execution_count": 10,
      "id": "6349755f",
      "metadata": {
        "id": "6349755f"
      },
      "outputs": [],
      "source": [
        ""
      ]
    }
  ],
  "metadata": {
    "kernelspec": {
      "display_name": "Python 3 (ipykernel)",
      "language": "python",
      "name": "python3"
    },
    "language_info": {
      "codemirror_mode": {
        "name": "ipython",
        "version": 3
      },
      "file_extension": ".py",
      "mimetype": "text/x-python",
      "name": "python",
      "nbconvert_exporter": "python",
      "pygments_lexer": "ipython3",
      "version": "3.10.4"
    },
    "colab": {
      "name": "Untitled.ipynb",
      "provenance": [],
      "collapsed_sections": []
    },
    "accelerator": "GPU"
  },
  "nbformat": 4,
  "nbformat_minor": 5
}