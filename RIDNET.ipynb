{
 "cells": [
  {
   "cell_type": "markdown",
   "id": "1b5e1165",
   "metadata": {
    "id": "1b5e1165"
   },
   "source": [
    "# Image Deblurring - June Exam"
   ]
  },
  {
   "cell_type": "markdown",
   "id": "6952a6bb",
   "metadata": {
    "id": "6952a6bb"
   },
   "source": [
    "# Assignment\n",
    "## Task \n",
    "\n",
    "The task consists of creating a deep learning model to detect hate speech or offensive language in texts. \n",
    "\n",
    "Try to build a pipeline which is able to perform the task and evaluate the results obtained. "
   ]
  },
  {
   "cell_type": "markdown",
   "id": "7d1410e4",
   "metadata": {
    "id": "7d1410e4"
   },
   "source": [
    "## Dataset\n",
    "The dataset is built starting from *CIFAR-10* images collection. Feel free to further split the data to build a validation set, if needed. \n",
    "\n",
    "The split into different data split is left to you, perform it as you like, making sure it is meaningful."
   ]
  },
  {
   "cell_type": "markdown",
   "id": "10b1add6",
   "metadata": {
    "id": "10b1add6"
   },
   "source": [
    "### Dataset creation - DO NOT MODIFY"
   ]
  },
  {
   "cell_type": "code",
   "execution_count": 2,
   "id": "e968f933",
   "metadata": {
    "id": "e968f933"
   },
   "outputs": [],
   "source": [
    "import tensorflow as tf \n",
    "import random\n",
    "from cv2 import GaussianBlur\n",
    "import numpy as np\n",
    "\n",
    "def getDataset():\n",
    "    (x_train, _), (x_test, _) = tf.keras.datasets.cifar10.load_data()\n",
    "    normalize = lambda x: x/x.max()\n",
    "    x_train = normalize(x_train)\n",
    "    x_test = normalize(x_test)\n",
    "    createBlurred = lambda arr: np.array([GaussianBlur(x, (5,5), ((random.random()*3)+1)) + (0.02*np.random.normal(0,1, (32, 32, 3))) for x in arr])\n",
    "    return (createBlurred(x_train), x_train), (createBlurred(x_test), x_test)"
   ]
  },
  {
   "cell_type": "code",
   "execution_count": 3,
   "id": "da68671a",
   "metadata": {},
   "outputs": [
    {
     "data": {
      "text/plain": [
       "'/device:GPU:0'"
      ]
     },
     "execution_count": 3,
     "metadata": {},
     "output_type": "execute_result"
    }
   ],
   "source": [
    "tf.test.gpu_device_name()"
   ]
  },
  {
   "cell_type": "code",
   "execution_count": null,
   "id": "afa0b903",
   "metadata": {},
   "outputs": [],
   "source": []
  },
  {
   "cell_type": "markdown",
   "id": "c320edd6",
   "metadata": {
    "id": "c320edd6"
   },
   "source": [
    "## Structure\n",
    "\n",
    "Write a notebook explaining every step you take in the building of the pipeline and **DON'T** clear the output of the cells when you submit it.  \n",
    "\n",
    "Make sure to test the model in order to prove robustness and lack of overfitting.\n",
    "\n",
    "The metric you will need to use to evaluate the results is the *MSE*."
   ]
  },
  {
   "cell_type": "markdown",
   "id": "2ba441a2",
   "metadata": {
    "id": "2ba441a2"
   },
   "source": [
    "## Hints and requirements\n",
    "\n",
    "There are different strategies to remove such noise from images, feel free to use the one you consider to be the most appropriate, keeping in mind that the blurring is Gaussian and so is the noise. \n",
    "\n",
    "The metrics will be evaluated on the reconstructed images, so provide a way to check the results on a batch composed of original images and reconstructed images.\n",
    "\n",
    "You can't use **ANY** pre-trained models for this exam and try to build models with less than 10 milions trainable parameters. \n",
    "\n",
    "Try to remember all the instructions we provided in the last lab lesson about the submission, make sure to output the metrics of your final model and use the adequate strategy for the task. \n",
    "\n",
    "Save the weights of your model and keep them until the discussion, we might ask you to provide them. "
   ]
  },
  {
   "cell_type": "markdown",
   "id": "3a4318d3",
   "metadata": {
    "id": "3a4318d3"
   },
   "source": [
    "# Solution\n",
    "## Data visualization\n"
   ]
  },
  {
   "cell_type": "code",
   "execution_count": 4,
   "id": "ddb61551",
   "metadata": {
    "id": "ddb61551"
   },
   "outputs": [],
   "source": [
    "import matplotlib.pyplot as plt\n",
    "import tensorflow as tf\n",
    "from tensorflow.keras import layers\n",
    "from tensorflow.keras.models import Model\n",
    "\n",
    "%matplotlib inline"
   ]
  },
  {
   "cell_type": "code",
   "execution_count": 5,
   "id": "52d23b31",
   "metadata": {
    "id": "52d23b31"
   },
   "outputs": [],
   "source": [
    "(x_train, y_train), (x_test, y_test) = getDataset()"
   ]
  },
  {
   "cell_type": "code",
   "execution_count": 6,
   "id": "c297a2c4",
   "metadata": {
    "colab": {
     "base_uri": "https://localhost:8080/"
    },
    "id": "c297a2c4",
    "outputId": "2be58f05-656b-4d84-fa3e-8d3c6e33211a"
   },
   "outputs": [
    {
     "name": "stdout",
     "output_type": "stream",
     "text": [
      "The shape of the x_train dataset is: (50000, 32, 32, 3)\n",
      "The shape of the y_train dataset is: (50000, 32, 32, 3)\n",
      "The shape of the x_test dataset is: (10000, 32, 32, 3)\n",
      "The shape of the y_test dataset is: (10000, 32, 32, 3)\n"
     ]
    }
   ],
   "source": [
    "print(f'The shape of the x_train dataset is: {x_train.shape}')\n",
    "print(f'The shape of the y_train dataset is: {y_train.shape}')\n",
    "\n",
    "print(f'The shape of the x_test dataset is: {x_test.shape}')\n",
    "print(f'The shape of the y_test dataset is: {y_test.shape}')"
   ]
  },
  {
   "cell_type": "code",
   "execution_count": 7,
   "id": "5bdfe5bc",
   "metadata": {
    "id": "5bdfe5bc"
   },
   "outputs": [],
   "source": [
    "# y_train.max()"
   ]
  },
  {
   "cell_type": "code",
   "execution_count": 8,
   "id": "5c55f3d0",
   "metadata": {
    "colab": {
     "base_uri": "https://localhost:8080/",
     "height": 216
    },
    "id": "5c55f3d0",
    "outputId": "91a0ee7e-f024-4425-f143-bb837014017f"
   },
   "outputs": [
    {
     "name": "stderr",
     "output_type": "stream",
     "text": [
      "Clipping input data to the valid range for imshow with RGB data ([0..1] for floats or [0..255] for integers).\n",
      "Clipping input data to the valid range for imshow with RGB data ([0..1] for floats or [0..255] for integers).\n"
     ]
    },
    {
     "data": {
      "image/png": "[encoded data removed]",
      "text/plain": [
       "<Figure size 1440x720 with 10 Axes>"
      ]
     },
     "metadata": {
      "needs_background": "light"
     },
     "output_type": "display_data"
    }
   ],
   "source": [
    "def plot_first_images(n_images_to_plot=5):\n",
    "    plt.figure(figsize=(20, 10))\n",
    "    for i in range(n_images_to_plot):\n",
    "        # Display blurrd image\n",
    "        ax = plt.subplot(2, n_images_to_plot, i + 1)\n",
    "        plt.imshow(x_train[i], vmin=0., vmax=1.)\n",
    "        ax.get_xaxis().set_visible(False)\n",
    "        ax.get_yaxis().set_visible(False)\n",
    "\n",
    "        # Display reconstructed image\n",
    "        ax = plt.subplot(2, n_images_to_plot, i + 1 + n_images_to_plot)\n",
    "        plt.imshow(y_train[i], vmin=0., vmax=1.)\n",
    "        ax.get_xaxis().set_visible(False)\n",
    "        ax.get_yaxis().set_visible(False)\n",
    "    plt.show()\n",
    "plot_first_images()"
   ]
  },
  {
   "cell_type": "code",
   "execution_count": null,
   "id": "2a40e610",
   "metadata": {
    "id": "2a40e610"
   },
   "outputs": [],
   "source": []
  },
  {
   "cell_type": "code",
   "execution_count": null,
   "id": "PXVOiLaqhnl4",
   "metadata": {
    "id": "PXVOiLaqhnl4"
   },
   "outputs": [],
   "source": []
  },
  {
   "cell_type": "code",
   "execution_count": null,
   "id": "WzOZkW5n-951",
   "metadata": {
    "id": "WzOZkW5n-951"
   },
   "outputs": [],
   "source": []
  },
  {
   "cell_type": "code",
   "execution_count": null,
   "id": "c7b4a1ec",
   "metadata": {
    "colab": {
     "base_uri": "https://localhost:8080/"
    },
    "id": "c7b4a1ec",
    "outputId": "ce773471-d345-4e2d-9c46-d3edbe94607f"
   },
   "outputs": [],
   "source": []
  },
  {
   "cell_type": "code",
   "execution_count": null,
   "id": "4oxyecFSDmeu",
   "metadata": {
    "id": "4oxyecFSDmeu"
   },
   "outputs": [],
   "source": []
  },
  {
   "cell_type": "code",
   "execution_count": null,
   "id": "atHk120QDrHn",
   "metadata": {
    "id": "atHk120QDrHn"
   },
   "outputs": [],
   "source": []
  },
  {
   "cell_type": "code",
   "execution_count": null,
   "id": "u9RF2rgKDtXB",
   "metadata": {
    "colab": {
     "base_uri": "https://localhost:8080/"
    },
    "id": "u9RF2rgKDtXB",
    "outputId": "847892bf-0702-4c67-ae5d-dec86fef786c"
   },
   "outputs": [],
   "source": []
  },
  {
   "cell_type": "code",
   "execution_count": 19,
   "id": "Prh2ag7nIIip",
   "metadata": {
    "id": "Prh2ag7nIIip"
   },
   "outputs": [],
   "source": [
    "initializer = tf.keras.initializers.RandomNormal(stddev=0.01)\n",
    "\n",
    "def EAM(input):\n",
    "    x=layers.Conv2D(64, (3,3), dilation_rate=1,padding='same',activation='relu')(input)\n",
    "    x=layers.Conv2D(64, (3,3), dilation_rate=2,padding='same',activation='relu')(x)\n",
    "\n",
    "    y=layers.Conv2D(64, (3,3), dilation_rate=3,padding='same',activation='relu')(input)\n",
    "    y=layers.Conv2D(64, (3,3), dilation_rate=4,padding='same',activation='relu')(y)\n",
    "\n",
    "    z=layers.Concatenate(axis=-1)([x,y])\n",
    "    z=layers.Conv2D(64, (3,3),padding='same',activation='relu')(z)\n",
    "    add_1=layers.Add()([z, input])\n",
    "\n",
    "    z=layers.Conv2D(64, (3,3),padding='same', activation='relu')(add_1)\n",
    "    z=layers.Conv2D(64, (3,3),padding='same')(z)\n",
    "    add_2=layers.Add()([z,add_1])\n",
    "    add_2 = layers.Activation('relu')(add_2)\n",
    "\n",
    "    z=layers.Conv2D(64, (3,3),padding='same',activation='relu')(add_2)\n",
    "    z=layers.Conv2D(64, (3,3),padding='same',activation='relu')(z)\n",
    "    z=layers.Conv2D(64, (1,1),padding='same')(z)\n",
    "    add_3=layers.Add()([z,add_2])\n",
    "    add_3 = layers.Activation('relu')(add_3)\n",
    "\n",
    "    z = layers.GlobalAveragePooling2D(keepdims=True)(add_3)\n",
    "    #z = tf.expand_dims(z,1)\n",
    "    #z = tf.expand_dims(z,1)\n",
    "    z=layers.Conv2D(4, (3,3),padding='same',activation='relu')(z)\n",
    "      # add Conv2D 64 3x3 padding same relu\n",
    "    z=layers.Conv2D(64, (3,3),padding='same',activation='sigmoid')(z)\n",
    "    mul=layers.Multiply()([z, add_3])\n",
    "\n",
    "    return mul\n",
    "\n",
    "def RIDNET(input_shape):\n",
    "    input = layers.Input(input_shape, name='input')\n",
    "    feat_extraction = layers.Conv2D(64, (3,3),padding='same')(input)\n",
    "    eam_1=EAM(feat_extraction)\n",
    "    eam_2=EAM(eam_1)\n",
    "    eam_3=EAM(eam_2)\n",
    "    eam_4=EAM(eam_3)\n",
    "    x = layers.Conv2D(3, (3,3),padding='same')(eam_4)\n",
    "    add_2 = layers.Add()([x, input])\n",
    "  \n",
    "    model=Model(input,add_2)\n",
    "\n",
    "    return model\n",
    "\n",
    "autoencoder = RIDNET(x_train.shape[1:])"
   ]
  },
  {
   "cell_type": "code",
   "execution_count": 20,
   "id": "BF9Nb_3oImWa",
   "metadata": {
    "colab": {
     "base_uri": "https://localhost:8080/"
    },
    "id": "BF9Nb_3oImWa",
    "outputId": "5a0929e2-6374-4c8a-e079-4be9d8deb4d1"
   },
   "outputs": [
    {
     "name": "stdout",
     "output_type": "stream",
     "text": [
      "Model: \"model_1\"\n",
      "__________________________________________________________________________________________________\n",
      " Layer (type)                   Output Shape         Param #     Connected to                     \n",
      "==================================================================================================\n",
      " input (InputLayer)             [(None, 32, 32, 3)]  0           []                               \n",
      "                                                                                                  \n",
      " conv2d_58 (Conv2D)             (None, 32, 32, 64)   1792        ['input[0][0]']                  \n",
      "                                                                                                  \n",
      " conv2d_59 (Conv2D)             (None, 32, 32, 64)   36928       ['conv2d_58[0][0]']              \n",
      "                                                                                                  \n",
      " conv2d_61 (Conv2D)             (None, 32, 32, 64)   36928       ['conv2d_58[0][0]']              \n",
      "                                                                                                  \n",
      " conv2d_60 (Conv2D)             (None, 32, 32, 64)   36928       ['conv2d_59[0][0]']              \n",
      "                                                                                                  \n",
      " conv2d_62 (Conv2D)             (None, 32, 32, 64)   36928       ['conv2d_61[0][0]']              \n",
      "                                                                                                  \n",
      " concatenate_5 (Concatenate)    (None, 32, 32, 128)  0           ['conv2d_60[0][0]',              \n",
      "                                                                  'conv2d_62[0][0]']              \n",
      "                                                                                                  \n",
      " conv2d_63 (Conv2D)             (None, 32, 32, 64)   73792       ['concatenate_5[0][0]']          \n",
      "                                                                                                  \n",
      " add_15 (Add)                   (None, 32, 32, 64)   0           ['conv2d_63[0][0]',              \n",
      "                                                                  'conv2d_58[0][0]']              \n",
      "                                                                                                  \n",
      " conv2d_64 (Conv2D)             (None, 32, 32, 64)   36928       ['add_15[0][0]']                 \n",
      "                                                                                                  \n",
      " conv2d_65 (Conv2D)             (None, 32, 32, 64)   36928       ['conv2d_64[0][0]']              \n",
      "                                                                                                  \n",
      " add_16 (Add)                   (None, 32, 32, 64)   0           ['conv2d_65[0][0]',              \n",
      "                                                                  'add_15[0][0]']                 \n",
      "                                                                                                  \n",
      " activation_8 (Activation)      (None, 32, 32, 64)   0           ['add_16[0][0]']                 \n",
      "                                                                                                  \n",
      " conv2d_66 (Conv2D)             (None, 32, 32, 64)   36928       ['activation_8[0][0]']           \n",
      "                                                                                                  \n",
      " conv2d_67 (Conv2D)             (None, 32, 32, 64)   36928       ['conv2d_66[0][0]']              \n",
      "                                                                                                  \n",
      " conv2d_68 (Conv2D)             (None, 32, 32, 64)   4160        ['conv2d_67[0][0]']              \n",
      "                                                                                                  \n",
      " add_17 (Add)                   (None, 32, 32, 64)   0           ['conv2d_68[0][0]',              \n",
      "                                                                  'activation_8[0][0]']           \n",
      "                                                                                                  \n",
      " activation_9 (Activation)      (None, 32, 32, 64)   0           ['add_17[0][0]']                 \n",
      "                                                                                                  \n",
      " global_average_pooling2d_4 (Gl  (None, 1, 1, 64)    0           ['activation_9[0][0]']           \n",
      " obalAveragePooling2D)                                                                            \n",
      "                                                                                                  \n",
      " conv2d_69 (Conv2D)             (None, 1, 1, 4)      2308        ['global_average_pooling2d_4[0][0\n",
      "                                                                 ]']                              \n",
      "                                                                                                  \n",
      " conv2d_70 (Conv2D)             (None, 1, 1, 64)     2368        ['conv2d_69[0][0]']              \n",
      "                                                                                                  \n",
      " multiply_4 (Multiply)          (None, 32, 32, 64)   0           ['conv2d_70[0][0]',              \n",
      "                                                                  'activation_9[0][0]']           \n",
      "                                                                                                  \n",
      " conv2d_71 (Conv2D)             (None, 32, 32, 64)   36928       ['multiply_4[0][0]']             \n",
      "                                                                                                  \n",
      " conv2d_73 (Conv2D)             (None, 32, 32, 64)   36928       ['multiply_4[0][0]']             \n",
      "                                                                                                  \n",
      " conv2d_72 (Conv2D)             (None, 32, 32, 64)   36928       ['conv2d_71[0][0]']              \n",
      "                                                                                                  \n",
      " conv2d_74 (Conv2D)             (None, 32, 32, 64)   36928       ['conv2d_73[0][0]']              \n",
      "                                                                                                  \n",
      " concatenate_6 (Concatenate)    (None, 32, 32, 128)  0           ['conv2d_72[0][0]',              \n",
      "                                                                  'conv2d_74[0][0]']              \n",
      "                                                                                                  \n",
      " conv2d_75 (Conv2D)             (None, 32, 32, 64)   73792       ['concatenate_6[0][0]']          \n",
      "                                                                                                  \n",
      " add_18 (Add)                   (None, 32, 32, 64)   0           ['conv2d_75[0][0]',              \n",
      "                                                                  'multiply_4[0][0]']             \n",
      "                                                                                                  \n",
      " conv2d_76 (Conv2D)             (None, 32, 32, 64)   36928       ['add_18[0][0]']                 \n",
      "                                                                                                  \n",
      " conv2d_77 (Conv2D)             (None, 32, 32, 64)   36928       ['conv2d_76[0][0]']              \n",
      "                                                                                                  \n",
      " add_19 (Add)                   (None, 32, 32, 64)   0           ['conv2d_77[0][0]',              \n",
      "                                                                  'add_18[0][0]']                 \n",
      "                                                                                                  \n",
      " activation_10 (Activation)     (None, 32, 32, 64)   0           ['add_19[0][0]']                 \n",
      "                                                                                                  \n",
      " conv2d_78 (Conv2D)             (None, 32, 32, 64)   36928       ['activation_10[0][0]']          \n",
      "                                                                                                  \n",
      " conv2d_79 (Conv2D)             (None, 32, 32, 64)   36928       ['conv2d_78[0][0]']              \n",
      "                                                                                                  \n"
     ]
    },
    {
     "name": "stdout",
     "output_type": "stream",
     "text": [
      " conv2d_80 (Conv2D)             (None, 32, 32, 64)   4160        ['conv2d_79[0][0]']              \n",
      "                                                                                                  \n",
      " add_20 (Add)                   (None, 32, 32, 64)   0           ['conv2d_80[0][0]',              \n",
      "                                                                  'activation_10[0][0]']          \n",
      "                                                                                                  \n",
      " activation_11 (Activation)     (None, 32, 32, 64)   0           ['add_20[0][0]']                 \n",
      "                                                                                                  \n",
      " global_average_pooling2d_5 (Gl  (None, 1, 1, 64)    0           ['activation_11[0][0]']          \n",
      " obalAveragePooling2D)                                                                            \n",
      "                                                                                                  \n",
      " conv2d_81 (Conv2D)             (None, 1, 1, 4)      2308        ['global_average_pooling2d_5[0][0\n",
      "                                                                 ]']                              \n",
      "                                                                                                  \n",
      " conv2d_82 (Conv2D)             (None, 1, 1, 64)     2368        ['conv2d_81[0][0]']              \n",
      "                                                                                                  \n",
      " multiply_5 (Multiply)          (None, 32, 32, 64)   0           ['conv2d_82[0][0]',              \n",
      "                                                                  'activation_11[0][0]']          \n",
      "                                                                                                  \n",
      " conv2d_83 (Conv2D)             (None, 32, 32, 64)   36928       ['multiply_5[0][0]']             \n",
      "                                                                                                  \n",
      " conv2d_85 (Conv2D)             (None, 32, 32, 64)   36928       ['multiply_5[0][0]']             \n",
      "                                                                                                  \n",
      " conv2d_84 (Conv2D)             (None, 32, 32, 64)   36928       ['conv2d_83[0][0]']              \n",
      "                                                                                                  \n",
      " conv2d_86 (Conv2D)             (None, 32, 32, 64)   36928       ['conv2d_85[0][0]']              \n",
      "                                                                                                  \n",
      " concatenate_7 (Concatenate)    (None, 32, 32, 128)  0           ['conv2d_84[0][0]',              \n",
      "                                                                  'conv2d_86[0][0]']              \n",
      "                                                                                                  \n",
      " conv2d_87 (Conv2D)             (None, 32, 32, 64)   73792       ['concatenate_7[0][0]']          \n",
      "                                                                                                  \n",
      " add_21 (Add)                   (None, 32, 32, 64)   0           ['conv2d_87[0][0]',              \n",
      "                                                                  'multiply_5[0][0]']             \n",
      "                                                                                                  \n",
      " conv2d_88 (Conv2D)             (None, 32, 32, 64)   36928       ['add_21[0][0]']                 \n",
      "                                                                                                  \n",
      " conv2d_89 (Conv2D)             (None, 32, 32, 64)   36928       ['conv2d_88[0][0]']              \n",
      "                                                                                                  \n",
      " add_22 (Add)                   (None, 32, 32, 64)   0           ['conv2d_89[0][0]',              \n",
      "                                                                  'add_21[0][0]']                 \n",
      "                                                                                                  \n",
      " activation_12 (Activation)     (None, 32, 32, 64)   0           ['add_22[0][0]']                 \n",
      "                                                                                                  \n",
      " conv2d_90 (Conv2D)             (None, 32, 32, 64)   36928       ['activation_12[0][0]']          \n",
      "                                                                                                  \n",
      " conv2d_91 (Conv2D)             (None, 32, 32, 64)   36928       ['conv2d_90[0][0]']              \n",
      "                                                                                                  \n",
      " conv2d_92 (Conv2D)             (None, 32, 32, 64)   4160        ['conv2d_91[0][0]']              \n",
      "                                                                                                  \n",
      " add_23 (Add)                   (None, 32, 32, 64)   0           ['conv2d_92[0][0]',              \n",
      "                                                                  'activation_12[0][0]']          \n",
      "                                                                                                  \n",
      " activation_13 (Activation)     (None, 32, 32, 64)   0           ['add_23[0][0]']                 \n",
      "                                                                                                  \n",
      " global_average_pooling2d_6 (Gl  (None, 1, 1, 64)    0           ['activation_13[0][0]']          \n",
      " obalAveragePooling2D)                                                                            \n",
      "                                                                                                  \n",
      " conv2d_93 (Conv2D)             (None, 1, 1, 4)      2308        ['global_average_pooling2d_6[0][0\n",
      "                                                                 ]']                              \n",
      "                                                                                                  \n",
      " conv2d_94 (Conv2D)             (None, 1, 1, 64)     2368        ['conv2d_93[0][0]']              \n",
      "                                                                                                  \n",
      " multiply_6 (Multiply)          (None, 32, 32, 64)   0           ['conv2d_94[0][0]',              \n",
      "                                                                  'activation_13[0][0]']          \n",
      "                                                                                                  \n",
      " conv2d_95 (Conv2D)             (None, 32, 32, 64)   36928       ['multiply_6[0][0]']             \n",
      "                                                                                                  \n",
      " conv2d_97 (Conv2D)             (None, 32, 32, 64)   36928       ['multiply_6[0][0]']             \n",
      "                                                                                                  \n",
      " conv2d_96 (Conv2D)             (None, 32, 32, 64)   36928       ['conv2d_95[0][0]']              \n",
      "                                                                                                  \n",
      " conv2d_98 (Conv2D)             (None, 32, 32, 64)   36928       ['conv2d_97[0][0]']              \n",
      "                                                                                                  \n",
      " concatenate_8 (Concatenate)    (None, 32, 32, 128)  0           ['conv2d_96[0][0]',              \n",
      "                                                                  'conv2d_98[0][0]']              \n",
      "                                                                                                  \n",
      " conv2d_99 (Conv2D)             (None, 32, 32, 64)   73792       ['concatenate_8[0][0]']          \n",
      "                                                                                                  \n",
      " add_24 (Add)                   (None, 32, 32, 64)   0           ['conv2d_99[0][0]',              \n",
      "                                                                  'multiply_6[0][0]']             \n",
      "                                                                                                  \n",
      " conv2d_100 (Conv2D)            (None, 32, 32, 64)   36928       ['add_24[0][0]']                 \n",
      "                                                                                                  \n"
     ]
    },
    {
     "name": "stdout",
     "output_type": "stream",
     "text": [
      " conv2d_101 (Conv2D)            (None, 32, 32, 64)   36928       ['conv2d_100[0][0]']             \n",
      "                                                                                                  \n",
      " add_25 (Add)                   (None, 32, 32, 64)   0           ['conv2d_101[0][0]',             \n",
      "                                                                  'add_24[0][0]']                 \n",
      "                                                                                                  \n",
      " activation_14 (Activation)     (None, 32, 32, 64)   0           ['add_25[0][0]']                 \n",
      "                                                                                                  \n",
      " conv2d_102 (Conv2D)            (None, 32, 32, 64)   36928       ['activation_14[0][0]']          \n",
      "                                                                                                  \n",
      " conv2d_103 (Conv2D)            (None, 32, 32, 64)   36928       ['conv2d_102[0][0]']             \n",
      "                                                                                                  \n",
      " conv2d_104 (Conv2D)            (None, 32, 32, 64)   4160        ['conv2d_103[0][0]']             \n",
      "                                                                                                  \n",
      " add_26 (Add)                   (None, 32, 32, 64)   0           ['conv2d_104[0][0]',             \n",
      "                                                                  'activation_14[0][0]']          \n",
      "                                                                                                  \n",
      " activation_15 (Activation)     (None, 32, 32, 64)   0           ['add_26[0][0]']                 \n",
      "                                                                                                  \n",
      " global_average_pooling2d_7 (Gl  (None, 1, 1, 64)    0           ['activation_15[0][0]']          \n",
      " obalAveragePooling2D)                                                                            \n",
      "                                                                                                  \n",
      " conv2d_105 (Conv2D)            (None, 1, 1, 4)      2308        ['global_average_pooling2d_7[0][0\n",
      "                                                                 ]']                              \n",
      "                                                                                                  \n",
      " conv2d_106 (Conv2D)            (None, 1, 1, 64)     2368        ['conv2d_105[0][0]']             \n",
      "                                                                                                  \n",
      " multiply_7 (Multiply)          (None, 32, 32, 64)   0           ['conv2d_106[0][0]',             \n",
      "                                                                  'activation_15[0][0]']          \n",
      "                                                                                                  \n",
      " conv2d_107 (Conv2D)            (None, 32, 32, 3)    1731        ['multiply_7[0][0]']             \n",
      "                                                                                                  \n",
      " add_27 (Add)                   (None, 32, 32, 3)    0           ['conv2d_107[0][0]',             \n",
      "                                                                  'input[0][0]']                  \n",
      "                                                                                                  \n",
      "==================================================================================================\n",
      "Total params: 1,515,731\n",
      "Trainable params: 1,515,731\n",
      "Non-trainable params: 0\n",
      "__________________________________________________________________________________________________\n"
     ]
    }
   ],
   "source": [
    "autoencoder.summary()"
   ]
  },
  {
   "cell_type": "markdown",
   "id": "IQ8k0L23l3TI",
   "metadata": {
    "id": "IQ8k0L23l3TI"
   },
   "source": [
    "https://github.com/jyothishkjames/Image-Denoising-with-Autoencoders/blob/master/models/train_model.py"
   ]
  },
  {
   "cell_type": "markdown",
   "id": "vO3RZAXcDkXw",
   "metadata": {
    "id": "vO3RZAXcDkXw"
   },
   "source": [
    "https://medium.com/analytics-vidhya/noise-removal-in-images-using-deep-learning-models-3972544372d2"
   ]
  },
  {
   "cell_type": "code",
   "execution_count": 21,
   "id": "10c727f5",
   "metadata": {},
   "outputs": [
    {
     "data": {
      "text/plain": [
       "<tf.Tensor: shape=(4, 32, 32), dtype=float64, numpy=\n",
       "array([[[0., 0., 0., ..., 0., 0., 0.],\n",
       "        [0., 0., 0., ..., 0., 0., 0.],\n",
       "        [0., 0., 0., ..., 0., 0., 0.],\n",
       "        ...,\n",
       "        [0., 0., 0., ..., 0., 0., 0.],\n",
       "        [0., 0., 0., ..., 0., 0., 0.],\n",
       "        [0., 0., 0., ..., 0., 0., 0.]],\n",
       "\n",
       "       [[0., 0., 0., ..., 0., 0., 0.],\n",
       "        [0., 0., 0., ..., 0., 0., 0.],\n",
       "        [0., 0., 0., ..., 0., 0., 0.],\n",
       "        ...,\n",
       "        [0., 0., 0., ..., 0., 0., 0.],\n",
       "        [0., 0., 0., ..., 0., 0., 0.],\n",
       "        [0., 0., 0., ..., 0., 0., 0.]],\n",
       "\n",
       "       [[0., 0., 0., ..., 0., 0., 0.],\n",
       "        [0., 0., 0., ..., 0., 0., 0.],\n",
       "        [0., 0., 0., ..., 0., 0., 0.],\n",
       "        ...,\n",
       "        [0., 0., 0., ..., 0., 0., 0.],\n",
       "        [0., 0., 0., ..., 0., 0., 0.],\n",
       "        [0., 0., 0., ..., 0., 0., 0.]],\n",
       "\n",
       "       [[0., 0., 0., ..., 0., 0., 0.],\n",
       "        [0., 0., 0., ..., 0., 0., 0.],\n",
       "        [0., 0., 0., ..., 0., 0., 0.],\n",
       "        ...,\n",
       "        [0., 0., 0., ..., 0., 0., 0.],\n",
       "        [0., 0., 0., ..., 0., 0., 0.],\n",
       "        [0., 0., 0., ..., 0., 0., 0.]]])>"
      ]
     },
     "execution_count": 21,
     "metadata": {},
     "output_type": "execute_result"
    }
   ],
   "source": [
    "tf.norm(x_train[0:4] - x_train[0:4], ord=1, axis=-1)"
   ]
  },
  {
   "cell_type": "code",
   "execution_count": 22,
   "id": "5f135221",
   "metadata": {},
   "outputs": [
    {
     "data": {
      "text/plain": [
       "<tf.Tensor: shape=(20, 32, 32), dtype=float64, numpy=\n",
       "array([[[0., 0., 0., ..., 0., 0., 0.],\n",
       "        [0., 0., 0., ..., 0., 0., 0.],\n",
       "        [0., 0., 0., ..., 0., 0., 0.],\n",
       "        ...,\n",
       "        [0., 0., 0., ..., 0., 0., 0.],\n",
       "        [0., 0., 0., ..., 0., 0., 0.],\n",
       "        [0., 0., 0., ..., 0., 0., 0.]],\n",
       "\n",
       "       [[0., 0., 0., ..., 0., 0., 0.],\n",
       "        [0., 0., 0., ..., 0., 0., 0.],\n",
       "        [0., 0., 0., ..., 0., 0., 0.],\n",
       "        ...,\n",
       "        [0., 0., 0., ..., 0., 0., 0.],\n",
       "        [0., 0., 0., ..., 0., 0., 0.],\n",
       "        [0., 0., 0., ..., 0., 0., 0.]],\n",
       "\n",
       "       [[0., 0., 0., ..., 0., 0., 0.],\n",
       "        [0., 0., 0., ..., 0., 0., 0.],\n",
       "        [0., 0., 0., ..., 0., 0., 0.],\n",
       "        ...,\n",
       "        [0., 0., 0., ..., 0., 0., 0.],\n",
       "        [0., 0., 0., ..., 0., 0., 0.],\n",
       "        [0., 0., 0., ..., 0., 0., 0.]],\n",
       "\n",
       "       ...,\n",
       "\n",
       "       [[0., 0., 0., ..., 0., 0., 0.],\n",
       "        [0., 0., 0., ..., 0., 0., 0.],\n",
       "        [0., 0., 0., ..., 0., 0., 0.],\n",
       "        ...,\n",
       "        [0., 0., 0., ..., 0., 0., 0.],\n",
       "        [0., 0., 0., ..., 0., 0., 0.],\n",
       "        [0., 0., 0., ..., 0., 0., 0.]],\n",
       "\n",
       "       [[0., 0., 0., ..., 0., 0., 0.],\n",
       "        [0., 0., 0., ..., 0., 0., 0.],\n",
       "        [0., 0., 0., ..., 0., 0., 0.],\n",
       "        ...,\n",
       "        [0., 0., 0., ..., 0., 0., 0.],\n",
       "        [0., 0., 0., ..., 0., 0., 0.],\n",
       "        [0., 0., 0., ..., 0., 0., 0.]],\n",
       "\n",
       "       [[0., 0., 0., ..., 0., 0., 0.],\n",
       "        [0., 0., 0., ..., 0., 0., 0.],\n",
       "        [0., 0., 0., ..., 0., 0., 0.],\n",
       "        ...,\n",
       "        [0., 0., 0., ..., 0., 0., 0.],\n",
       "        [0., 0., 0., ..., 0., 0., 0.],\n",
       "        [0., 0., 0., ..., 0., 0., 0.]]])>"
      ]
     },
     "execution_count": 22,
     "metadata": {},
     "output_type": "execute_result"
    }
   ],
   "source": [
    "tf.keras.metrics.mean_squared_error(x_train[0:20], x_train[0:20])"
   ]
  },
  {
   "cell_type": "code",
   "execution_count": 23,
   "id": "88229c3f",
   "metadata": {},
   "outputs": [],
   "source": [
    "one_norm_loss = lambda y_true, y_pred: tf.norm(y_true - y_pred, ord=1, axis=-1)"
   ]
  },
  {
   "cell_type": "code",
   "execution_count": 24,
   "id": "16eb92f4",
   "metadata": {
    "id": "16eb92f4"
   },
   "outputs": [],
   "source": [
    "from tensorflow.keras.optimizers import Adam\n",
    "adam = Adam(0.001, beta_1=0.1)\n",
    "autoencoder.compile(optimizer=adam, loss=one_norm_loss, metrics=[\"mse\"])"
   ]
  },
  {
   "cell_type": "code",
   "execution_count": 25,
   "id": "54e0617b",
   "metadata": {
    "colab": {
     "base_uri": "https://localhost:8080/"
    },
    "id": "54e0617b",
    "outputId": "19e6d782-c052-4e52-fc50-a4a357814fc6"
   },
   "outputs": [
    {
     "name": "stdout",
     "output_type": "stream",
     "text": [
      "Epoch 1/20\n",
      "625/625 [==============================] - 139s 217ms/step - loss: 0.1383 - mse: 0.0043 - val_loss: 0.1253 - val_mse: 0.0035\n",
      "Epoch 2/20\n",
      "625/625 [==============================] - 135s 216ms/step - loss: 0.1179 - mse: 0.0030 - val_loss: 0.1114 - val_mse: 0.0027\n",
      "Epoch 3/20\n",
      "625/625 [==============================] - 135s 216ms/step - loss: 0.1091 - mse: 0.0027 - val_loss: 0.1040 - val_mse: 0.0024\n",
      "Epoch 4/20\n",
      "625/625 [==============================] - 135s 216ms/step - loss: 0.1038 - mse: 0.0025 - val_loss: 0.1003 - val_mse: 0.0023\n",
      "Epoch 5/20\n",
      "625/625 [==============================] - 135s 216ms/step - loss: 0.1020 - mse: 0.0024 - val_loss: 0.0994 - val_mse: 0.0023\n",
      "Epoch 6/20\n",
      "625/625 [==============================] - 135s 216ms/step - loss: 0.1004 - mse: 0.0023 - val_loss: 0.1014 - val_mse: 0.0024\n",
      "Epoch 7/20\n",
      "625/625 [==============================] - 135s 216ms/step - loss: 0.0992 - mse: 0.0023 - val_loss: 0.1000 - val_mse: 0.0023\n",
      "Epoch 8/20\n",
      "625/625 [==============================] - 135s 216ms/step - loss: 0.0980 - mse: 0.0022 - val_loss: 0.0972 - val_mse: 0.0022\n",
      "Epoch 9/20\n",
      "625/625 [==============================] - 135s 216ms/step - loss: 0.0972 - mse: 0.0022 - val_loss: 0.0967 - val_mse: 0.0022\n",
      "Epoch 10/20\n",
      "625/625 [==============================] - 135s 216ms/step - loss: 0.0970 - mse: 0.0022 - val_loss: 0.0974 - val_mse: 0.0022\n",
      "Epoch 11/20\n",
      "625/625 [==============================] - 135s 216ms/step - loss: 0.0961 - mse: 0.0021 - val_loss: 0.0978 - val_mse: 0.0022\n",
      "Epoch 12/20\n",
      "625/625 [==============================] - 135s 216ms/step - loss: 0.0956 - mse: 0.0021 - val_loss: 0.0959 - val_mse: 0.0022\n",
      "Epoch 13/20\n",
      "625/625 [==============================] - 135s 216ms/step - loss: 0.0951 - mse: 0.0021 - val_loss: 0.0959 - val_mse: 0.0021\n",
      "Epoch 14/20\n",
      "625/625 [==============================] - 135s 216ms/step - loss: 0.0948 - mse: 0.0021 - val_loss: 0.0982 - val_mse: 0.0022\n",
      "Epoch 15/20\n",
      "625/625 [==============================] - 135s 216ms/step - loss: 0.0947 - mse: 0.0021 - val_loss: 0.0953 - val_mse: 0.0021\n",
      "Epoch 16/20\n",
      "625/625 [==============================] - 135s 216ms/step - loss: 0.0944 - mse: 0.0021 - val_loss: 0.0951 - val_mse: 0.0021\n",
      "Epoch 17/20\n",
      "625/625 [==============================] - 135s 216ms/step - loss: 0.0938 - mse: 0.0020 - val_loss: 0.0954 - val_mse: 0.0021\n",
      "Epoch 18/20\n",
      "625/625 [==============================] - 135s 216ms/step - loss: 0.0935 - mse: 0.0020 - val_loss: 0.0952 - val_mse: 0.0021\n",
      "Epoch 19/20\n",
      "625/625 [==============================] - 135s 216ms/step - loss: 0.0933 - mse: 0.0020 - val_loss: 0.0947 - val_mse: 0.0021\n",
      "Epoch 20/20\n",
      "625/625 [==============================] - 135s 216ms/step - loss: 0.0930 - mse: 0.0020 - val_loss: 0.0960 - val_mse: 0.0022\n"
     ]
    },
    {
     "data": {
      "text/plain": [
       "<keras.callbacks.History at 0x2e1d2a93190>"
      ]
     },
     "execution_count": 25,
     "metadata": {},
     "output_type": "execute_result"
    }
   ],
   "source": [
    "autoencoder.fit(x_train, y_train,\n",
    "                validation_split=0.2,\n",
    "                epochs=20,\n",
    "                batch_size=128)"
   ]
  },
  {
   "cell_type": "code",
   "execution_count": null,
   "id": "95f26c0c",
   "metadata": {
    "id": "95f26c0c"
   },
   "outputs": [],
   "source": [
    "#from sklearn.metrics import mean_squared_error"
   ]
  },
  {
   "cell_type": "code",
   "execution_count": 26,
   "id": "BWlxetdXDilr",
   "metadata": {
    "id": "BWlxetdXDilr"
   },
   "outputs": [
    {
     "name": "stdout",
     "output_type": "stream",
     "text": [
      "313/313 [==============================] - 12s 35ms/step\n"
     ]
    }
   ],
   "source": [
    "predictions = autoencoder.predict(x_test)"
   ]
  },
  {
   "cell_type": "code",
   "execution_count": 29,
   "id": "b05c89a1",
   "metadata": {
    "id": "b05c89a1"
   },
   "outputs": [
    {
     "name": "stderr",
     "output_type": "stream",
     "text": [
      "Clipping input data to the valid range for imshow with RGB data ([0..1] for floats or [0..255] for integers).\n"
     ]
    },
    {
     "data": {
      "image/png": "[encoded data removed]",
      "text/plain": [
       "<Figure size 1440x720 with 10 Axes>"
      ]
     },
     "metadata": {
      "needs_background": "light"
     },
     "output_type": "display_data"
    }
   ],
   "source": [
    "def plot_first_predicted_images(n_images_to_plot=5):\n",
    "    plt.figure(figsize=(20, 10))\n",
    "    for i in range(n_images_to_plot):\n",
    "        # Display actual image\n",
    "        ax = plt.subplot(2, n_images_to_plot, i + 1)\n",
    "        plt.imshow(y_test[i], vmin=0., vmax=1.)\n",
    "        ax.get_xaxis().set_visible(False)\n",
    "        ax.get_yaxis().set_visible(False)\n",
    "\n",
    "        # Display predicted image\n",
    "        ax = plt.subplot(2, n_images_to_plot, i + 1 + n_images_to_plot)\n",
    "        plt.imshow(predictions[i], vmin=0., vmax=1.)\n",
    "        ax.get_xaxis().set_visible(False)\n",
    "        ax.get_yaxis().set_visible(False)\n",
    "\n",
    "    plt.show()\n",
    "plot_first_predicted_images()"
   ]
  },
  {
   "cell_type": "code",
   "execution_count": null,
   "id": "LXjnEbgkPsEA",
   "metadata": {
    "id": "LXjnEbgkPsEA"
   },
   "outputs": [],
   "source": []
  },
  {
   "cell_type": "code",
   "execution_count": 30,
   "id": "6349755f",
   "metadata": {
    "id": "6349755f"
   },
   "outputs": [
    {
     "data": {
      "text/plain": [
       "0.0021835747"
      ]
     },
     "execution_count": 30,
     "metadata": {},
     "output_type": "execute_result"
    }
   ],
   "source": [
    "from tensorflow.keras.losses import MeanSquaredError\n",
    "mse = MeanSquaredError()\n",
    "mse(y_test, predictions).numpy()"
   ]
  },
  {
   "cell_type": "code",
   "execution_count": null,
   "id": "2cdc3c36",
   "metadata": {},
   "outputs": [],
   "source": []
  }
 ],
 "metadata": {
  "accelerator": "GPU",
  "colab": {
   "collapsed_sections": [],
   "name": "Untitled.ipynb",
   "provenance": []
  },
  "kernelspec": {
   "display_name": "Python 3 (ipykernel)",
   "language": "python",
   "name": "python3"
  },
  "language_info": {
   "codemirror_mode": {
    "name": "ipython",
    "version": 3
   },
   "file_extension": ".py",
   "mimetype": "text/x-python",
   "name": "python",
   "nbconvert_exporter": "python",
   "pygments_lexer": "ipython3",
   "version": "3.10.4"
  }
 },
 "nbformat": 4,
 "nbformat_minor": 5
}
